{
 "cells": [
  {
   "cell_type": "code",
   "execution_count": null,
   "id": "1f0925e6",
   "metadata": {},
   "outputs": [],
   "source": [
    "#Q1. What is the relationship between classes and modules?\n",
    "Ans:\n",
    "    class are about object and modules are about funtion.\n"
   ]
  },
  {
   "cell_type": "code",
   "execution_count": null,
   "id": "519bc7bd",
   "metadata": {},
   "outputs": [],
   "source": [
    "#Q2. How do you make instances and classes?\n",
    "Ans:\n",
    "    Instance attributes are attributes or properties attached to an instance of a class. \n",
    "    Instance attributes are defined in the constructor.\n",
    "    class person:\n",
    "    def __init__(self,a,b):\n",
    "        self.a =a \n",
    "        self.b =b\n",
    "   self in a instance of class.      \n"
   ]
  },
  {
   "cell_type": "code",
   "execution_count": null,
   "id": "000b5062",
   "metadata": {},
   "outputs": [],
   "source": [
    "#Q3. Where and how should be class attributes created?\n",
    "\"\"\"\n",
    "Class attributes are the variables defined directly in the class that are shared by all objects of the class.\n",
    "\n",
    "class person:\n",
    "    def __init__(self,a,b):\n",
    "        self.a =a \n",
    "        self.b =b\n",
    " self.a and  self.b in a class atrrributes..\n",
    " \"\"\"     \n",
    "\"\"\"\n",
    "class Student:\n",
    "    count = 0\n",
    "    def __init__(self):\n",
    "        Student.count += 1  \n",
    "In this funtion count is a attributes. \"\"\"       \n"
   ]
  },
  {
   "cell_type": "code",
   "execution_count": null,
   "id": "e6f2da2e",
   "metadata": {},
   "outputs": [],
   "source": [
    "#Q4. Where and how are instance attributes created?\n",
    "We also created instance attributes by just declaring them and assigning a value to them outside of the class. \n",
    "There is another way to do it, which uses the __init__ method. It’s a constructor method that is automatically called \n",
    "after an instance of a class has been created. It’s usually the first method defined inside a class.\n"
   ]
  },
  {
   "cell_type": "code",
   "execution_count": null,
   "id": "172d2f6a",
   "metadata": {},
   "outputs": [],
   "source": [
    "#Q5. What does the term \"self\" in a Python class mean?\n",
    "self represents the instance of the class. \n",
    "By using the “self” we can access the attributes and methods of the class in python\n"
   ]
  },
  {
   "cell_type": "code",
   "execution_count": null,
   "id": "9f25d079",
   "metadata": {},
   "outputs": [],
   "source": [
    "#Q6. How does a Python class handle operator overloading?\n",
    "+ is used to add two integers as well as join two strings and merge two lists.\n",
    "It is achievable because '+' operator is overloaded by int class and str class\n"
   ]
  },
  {
   "cell_type": "code",
   "execution_count": null,
   "id": "eb8fcdc9",
   "metadata": {},
   "outputs": [],
   "source": [
    "#Q7. When do you consider allowing operator overloading of your classes?\n",
    "\"\"\"when we need to do any opretioin like addition, multiplication, slicing, inference.\"\"\"\n",
    "class vector:\n",
    "    def __init__(self,a,b):\n",
    "        self.a = a\n",
    "        self.b = b\n",
    "\n",
    "    def __str__(self):\n",
    "        return \"vecor %d %d\" %(self.a,self.b)\n",
    "    def __add__(self, other):# in this funtion __add__ is a overloadind operator\n",
    "        return vector(self.a + other.a , self.b +other.b)\n",
    "\n",
    "v1 = vector(15,45)\n",
    "v2 = vector(20,85)\n",
    "print(v1+v2)\n",
    "vecor 35 130\n"
   ]
  },
  {
   "cell_type": "code",
   "execution_count": null,
   "id": "4f5e7de8",
   "metadata": {},
   "outputs": [],
   "source": [
    "#Q8. What is the most popular form of operator overloading?\n",
    "__add__ adding\n"
   ]
  },
  {
   "cell_type": "code",
   "execution_count": null,
   "id": "3ec0c032",
   "metadata": {},
   "outputs": [],
   "source": [
    "Q9. What are the two most important concepts to grasp in order to comprehend Python OOP code?\n",
    " inheritance and polymorphism"
   ]
  }
 ],
 "metadata": {
  "kernelspec": {
   "display_name": "Python 3 (ipykernel)",
   "language": "python",
   "name": "python3"
  },
  "language_info": {
   "codemirror_mode": {
    "name": "ipython",
    "version": 3
   },
   "file_extension": ".py",
   "mimetype": "text/x-python",
   "name": "python",
   "nbconvert_exporter": "python",
   "pygments_lexer": "ipython3",
   "version": "3.9.7"
  }
 },
 "nbformat": 4,
 "nbformat_minor": 5
}
