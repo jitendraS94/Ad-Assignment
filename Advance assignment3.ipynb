{
 "cells": [
  {
   "cell_type": "code",
   "execution_count": null,
   "id": "94ea21cb",
   "metadata": {},
   "outputs": [],
   "source": [
    "1. What is the concept of an abstract superclass?"
   ]
  },
  {
   "cell_type": "code",
   "execution_count": null,
   "id": "81dcdeaf",
   "metadata": {},
   "outputs": [],
   "source": [
    "An abstract class can be considered as a blueprint for other classes. \n",
    "It allows you to create a set of methods that must be created within any \n",
    "child classes built from the abstract class. A class which contains one or \n",
    "more abstract methods is called an abstract class. \n",
    "An abstract method is a method that has a declaration but does not have an implementation.\n"
   ]
  },
  {
   "cell_type": "code",
   "execution_count": null,
   "id": "cf42c113",
   "metadata": {},
   "outputs": [],
   "source": [
    "2. What happens when a class statement's top level contains a basic assignment statement?\n"
   ]
  },
  {
   "cell_type": "code",
   "execution_count": null,
   "id": "6d79f24a",
   "metadata": {},
   "outputs": [],
   "source": [
    " When a Class statement's top level contains a basic assignment statement, its usually treated as a class attribute or class level variable.\n",
    "\n",
    "where as assignment statements inside methods are treated as instance attributes or local attributes.\n",
    "\n",
    "When an instance of a class is created a single copy of class attributes is maintained and shared to all instances of class. where as each instance object maintains its own copy of instance variables."
   ]
  },
  {
   "cell_type": "code",
   "execution_count": null,
   "id": "e4ad0916",
   "metadata": {},
   "outputs": [],
   "source": [
    "3. Why does a class need to manually call a superclass's __init__ method?\n"
   ]
  },
  {
   "cell_type": "code",
   "execution_count": null,
   "id": "3a7d4e48",
   "metadata": {},
   "outputs": [],
   "source": [
    "    __init__ method of the child class overrides the __init__ method of the parent class. so we have to manually call a \n",
    "    parent superclass's __init__ using super() method"
   ]
  },
  {
   "cell_type": "code",
   "execution_count": null,
   "id": "fb59f5a0",
   "metadata": {},
   "outputs": [],
   "source": [
    "4. How can you augment, instead of completely replacing, an inherited method?\n"
   ]
  },
  {
   "cell_type": "code",
   "execution_count": null,
   "id": "9ef8bc98",
   "metadata": {},
   "outputs": [],
   "source": [
    "Ans: super() method can be used to augment, instead of completely replacing, an inherited method.\n",
    "\n"
   ]
  },
  {
   "cell_type": "code",
   "execution_count": null,
   "id": "fbf0c2f6",
   "metadata": {},
   "outputs": [],
   "source": [
    "5. How is the local scope of a class different from that of a function?\n"
   ]
  },
  {
   "cell_type": "code",
   "execution_count": null,
   "id": "2a1f2962",
   "metadata": {},
   "outputs": [],
   "source": [
    "a variable inside of a class also has a local variable scope. Variables which are defined in the class body (but outside all methods) are called as class level variables or class attributes. they can be referenced by there bare names within the same scope, but they can also be accessed from outside this scope if we use the attribute access operator (.). \n",
    "on a class or an instance of the class."
   ]
  },
  {
   "cell_type": "code",
   "execution_count": null,
   "id": "7d535622",
   "metadata": {},
   "outputs": [],
   "source": []
  }
 ],
 "metadata": {
  "kernelspec": {
   "display_name": "Python 3 (ipykernel)",
   "language": "python",
   "name": "python3"
  },
  "language_info": {
   "codemirror_mode": {
    "name": "ipython",
    "version": 3
   },
   "file_extension": ".py",
   "mimetype": "text/x-python",
   "name": "python",
   "nbconvert_exporter": "python",
   "pygments_lexer": "ipython3",
   "version": "3.9.7"
  }
 },
 "nbformat": 4,
 "nbformat_minor": 5
}
