{
 "cells": [
  {
   "cell_type": "code",
   "execution_count": null,
   "id": "b015f4a4",
   "metadata": {},
   "outputs": [],
   "source": [
    "#\"Q1. What is the purpose of Python's OOP?\n",
    "\"\"\"Ans:\n",
    "    The purpose of pyhton's oops is , the oop make the program easy to undersatnd as well as efficient. \n",
    "    this is also safe and secure with data abstraction and polymorphism allows the same interface for different object .\"\"\"\n",
    "    \n",
    "\n",
    " "
   ]
  },
  {
   "cell_type": "code",
   "execution_count": null,
   "id": "782caf46",
   "metadata": {},
   "outputs": [],
   "source": [
    "#Q2. Where does an inheritance search look for an attribute?\n",
    "\"\"\"Ans :\n",
    "    The transfer of the characteristics of a class to other classes that are derived from it.\"\"\"\n"
   ]
  },
  {
   "cell_type": "code",
   "execution_count": null,
   "id": "bc9df286",
   "metadata": {},
   "outputs": [],
   "source": [
    "#Q3. How do you distinguish between a class object and an instance object?\n",
    "\"\"\"Ans:\n",
    "    A unique instance of a data structure that's defined by its class. \n",
    "    An object comprises both data members (class variables and instance variables) and methods.\"\"\"\n"
   ]
  },
  {
   "cell_type": "code",
   "execution_count": null,
   "id": "2e0b75a3",
   "metadata": {},
   "outputs": [],
   "source": [
    "#Q4. What makes the first argument in a class’s method function special?\n",
    "\"\"\"Ans:\n",
    "    class it's self the first argument in a class's method function.\"\"\"\n"
   ]
  },
  {
   "cell_type": "code",
   "execution_count": null,
   "id": "6de82a2c",
   "metadata": {},
   "outputs": [],
   "source": [
    "#Q5. What is the purpose of the __init__ method?\n",
    "\"\"\"Ans:\n",
    "    The __init__  is a costructor method allows you to accept arguments to your class\"\"\"\n"
   ]
  },
  {
   "cell_type": "code",
   "execution_count": null,
   "id": "b8b98dcc",
   "metadata": {},
   "outputs": [],
   "source": [
    "#Q6. What is the process for creating a class instance?\n",
    "\"\"\"Ans:\n",
    "    An individual object of a certain class. An object obj that belongs to a class Circle, \n",
    "    for example, is an instance of the class Circle.\"\"\"\n"
   ]
  },
  {
   "cell_type": "code",
   "execution_count": null,
   "id": "aa584895",
   "metadata": {},
   "outputs": [],
   "source": [
    "#Q7. What is the process for creating a class?\n",
    "\"\"\"Ans:\n",
    "    The purpose of pyhton's oops is , the oop make the program easy to undersatnd as well as efficient. \n",
    "    this is also safe and secure with data abstraction and polymorphism allows the same interface for different object .\"\"\"\n"
   ]
  },
  {
   "cell_type": "code",
   "execution_count": null,
   "id": "4520cd68",
   "metadata": {},
   "outputs": [],
   "source": [
    "    \n",
    "#Q8. How would you define the superclasses of a class?\n",
    "\"\"\"Ans:\n",
    "    Superclasses is a class where many subclass can be created.Superclasses also know as the parent clase and base class\"\"\". "
   ]
  },
  {
   "cell_type": "code",
   "execution_count": null,
   "id": "e7a26afc",
   "metadata": {},
   "outputs": [],
   "source": []
  },
  {
   "cell_type": "code",
   "execution_count": null,
   "id": "c32ca0e5",
   "metadata": {},
   "outputs": [],
   "source": []
  },
  {
   "cell_type": "code",
   "execution_count": null,
   "id": "d13226d5",
   "metadata": {},
   "outputs": [],
   "source": []
  },
  {
   "cell_type": "code",
   "execution_count": null,
   "id": "86e8b7b2",
   "metadata": {},
   "outputs": [],
   "source": []
  },
  {
   "cell_type": "code",
   "execution_count": null,
   "id": "bdb010bc",
   "metadata": {},
   "outputs": [],
   "source": []
  }
 ],
 "metadata": {
  "kernelspec": {
   "display_name": "Python 3 (ipykernel)",
   "language": "python",
   "name": "python3"
  },
  "language_info": {
   "codemirror_mode": {
    "name": "ipython",
    "version": 3
   },
   "file_extension": ".py",
   "mimetype": "text/x-python",
   "name": "python",
   "nbconvert_exporter": "python",
   "pygments_lexer": "ipython3",
   "version": "3.9.7"
  }
 },
 "nbformat": 4,
 "nbformat_minor": 5
}
